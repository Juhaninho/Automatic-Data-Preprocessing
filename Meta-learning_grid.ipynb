{
 "cells": [
  {
   "cell_type": "code",
   "execution_count": 1,
   "metadata": {},
   "outputs": [],
   "source": [
    "import numpy as np\n",
    "import pandas as pd\n",
    "from sklearn.model_selection import train_test_split\n",
    "from sklearn.linear_model import LinearRegression\n",
    "from sklearn.ensemble import RandomForestRegressor\n",
    "from sklearn.tree import DecisionTreeRegressor\n",
    "from sklearn.model_selection import cross_validate\n",
    "from sklearn.preprocessing import LabelEncoder\n",
    "from sklearn import metrics\n",
    "from sklearn import preprocessing\n",
    "from sklearn.neighbors import LocalOutlierFactor\n",
    "from sklearn.decomposition import PCA\n",
    "import statsmodels.formula.api as sm\n",
    "from sklearn.feature_selection import mutual_info_regression\n",
    "from matplotlib import pyplot as plt\n",
    "%matplotlib inline"
   ]
  },
  {
   "cell_type": "markdown",
   "metadata": {},
   "source": [
    "Loading the data and setting the hyperparameters"
   ]
  },
  {
   "cell_type": "code",
   "execution_count": 2,
   "metadata": {},
   "outputs": [],
   "source": [
    "data = pd.read_csv('Melbourne_housing_FULL.csv')"
   ]
  },
  {
   "cell_type": "code",
   "execution_count": 3,
   "metadata": {},
   "outputs": [
    {
     "data": {
      "text/plain": [
       "DecisionTreeRegressor(criterion='mse', max_depth=None, max_features=None,\n",
       "           max_leaf_nodes=None, min_impurity_decrease=0.0,\n",
       "           min_impurity_split=None, min_samples_leaf=1,\n",
       "           min_samples_split=2, min_weight_fraction_leaf=0.0,\n",
       "           presort=False, random_state=1, splitter='best')"
      ]
     },
     "execution_count": 3,
     "metadata": {},
     "output_type": "execute_result"
    }
   ],
   "source": [
    "data_model = pd.read_csv('meta_model.csv', index_col=False)\n",
    "meta_model = DecisionTreeRegressor(random_state=1)\n",
    "meta_model.fit(data_model.drop(['prediction'], axis=1), data_model['prediction'])"
   ]
  },
  {
   "cell_type": "code",
   "execution_count": 4,
   "metadata": {},
   "outputs": [],
   "source": [
    "target_column = 'Price'"
   ]
  },
  {
   "cell_type": "code",
   "execution_count": 5,
   "metadata": {},
   "outputs": [],
   "source": [
    "# hyperparameters\n",
    "n_estimators = 2\n",
    "lof_n_neighbors = 20\n",
    "pca_n_components = 3\n",
    "n_random_subset = 5\n",
    "sl_backward_elimination = 0.05"
   ]
  },
  {
   "cell_type": "code",
   "execution_count": 6,
   "metadata": {},
   "outputs": [],
   "source": [
    "# transform categorical variables to nominal variables\n",
    "le = LabelEncoder()\n",
    "data['Suburb'] = le.fit_transform(data['Suburb'])\n",
    "data['Address'] = le.fit_transform(data['Address'])\n",
    "data['Regionname'] = le.fit_transform([str(rn) for rn in data['Regionname']])\n",
    "data['CouncilArea'] = le.fit_transform([str(ca) for ca in data['CouncilArea']])\n",
    "data['SellerG'] = le.fit_transform(data['SellerG'])\n",
    "data['Type'] = le.fit_transform(data['Type'])\n",
    "data['Method'] = le.fit_transform(data['Method'])\n",
    "data['Date'] = [int(d.split('/')[2]) for d in data['Date']]\n",
    "\n",
    "nominal_columnnames = ['Suburb', 'Address', 'Regionname', 'CouncilArea', 'SellerG', 'Type', 'Method', 'Date']\n",
    "\n",
    "X = data.drop([target_column], axis=1)\n",
    "y = data[target_column]"
   ]
  },
  {
   "cell_type": "code",
   "execution_count": 7,
   "metadata": {},
   "outputs": [],
   "source": [
    "# train-test-split\n",
    "X_train, X_test, y_train, y_test = train_test_split(X, y, test_size=0.3, random_state=8)\n",
    "data_train = pd.concat([X_train, y_train], axis=1)\n",
    "data_test = pd.concat([X_test, y_test], axis=1)\n",
    "#data_whole = pd.concat([data_train, data_test], axis=0)"
   ]
  },
  {
   "cell_type": "code",
   "execution_count": 8,
   "metadata": {},
   "outputs": [],
   "source": [
    "df_metadata = pd.DataFrame(columns=['number_of_instances', 'number_of_features', 'noise_to_signal_ratio', \n",
    "            'mean_kurtosis_of_numeric_attributes', 'mean_means_of_numeric_attributes', \n",
    "            'mean_std_dev_of_numeric_attributes', 'mean_mutual_information', 'max_nominal_att_distinct_values', \n",
    "            'mean_std_dev_nominal_att_distinct_values', 'mean_nominal_att_distinct_values', \n",
    "            'mean_skewness_of_numeric_attributes'])"
   ]
  },
  {
   "cell_type": "markdown",
   "metadata": {},
   "source": [
    "Meta-learning"
   ]
  },
  {
   "cell_type": "code",
   "execution_count": 9,
   "metadata": {},
   "outputs": [],
   "source": [
    "# predict the accuracy of the preprocessed training dataset with the metadata\n",
    "def predict_accuracy(dataset_train):\n",
    "    global df_metadata\n",
    "    #X, y = getXy(dataset_train)\n",
    "    metadata = getMetadata(dataset_train)\n",
    "    df_metadata = df_metadata.iloc[0:0]\n",
    "    df_metadata.loc[0] = metadata\n",
    "    df_metadata.fillna(0, inplace=True)\n",
    "    return float(meta_model.predict(df_metadata))"
   ]
  },
  {
   "cell_type": "code",
   "execution_count": 10,
   "metadata": {},
   "outputs": [],
   "source": [
    "def getMetadata(dataset):\n",
    "    nominal_attributes, numeric_attributes = getNumericAndNominal(dataset)\n",
    "    number_of_instances = dataset.shape[0]\n",
    "    number_of_features = dataset.shape[1]\n",
    "    noise_to_signal_ratio = np.mean(dataset.mean(numeric_only=True)) / np.mean(dataset.std(numeric_only=True))\n",
    "    mean_kurtosis_of_numeric_attributes = np.mean(numeric_attributes.kurtosis(numeric_only=True))\n",
    "    mean_means_of_numeric_attributes = np.mean(numeric_attributes.mean(numeric_only=True))\n",
    "    mean_std_dev_of_numeric_attributes = np.mean(numeric_attributes.std(numeric_only=True))\n",
    "    mean_mutual_information = np.mean(mutual_info_regression(dataset.drop([target_column], axis=1), dataset[target_column]))\n",
    "    max_nominal_att_distinct_values = np.max(nominal_attributes.nunique())\n",
    "    mean_std_dev_nominal_att_distinct_values = np.mean(nominal_attributes.std())\n",
    "    mean_nominal_att_distinct_values = np.mean(nominal_attributes.nunique())\n",
    "    mean_skewness_of_numeric_attributes = np.mean(dataset.skew(numeric_only=True))\n",
    "    return [number_of_instances, number_of_features, noise_to_signal_ratio, mean_kurtosis_of_numeric_attributes, \n",
    "           mean_means_of_numeric_attributes, mean_std_dev_of_numeric_attributes, mean_mutual_information, \n",
    "           max_nominal_att_distinct_values, mean_std_dev_nominal_att_distinct_values, mean_nominal_att_distinct_values, \n",
    "           mean_skewness_of_numeric_attributes]"
   ]
  },
  {
   "cell_type": "code",
   "execution_count": 11,
   "metadata": {},
   "outputs": [],
   "source": [
    "#variables\n",
    "best_score = 0\n",
    "best_mcps = []\n",
    "best_train_data = data_train.copy()\n",
    "mcps = []\n",
    "all_scores = {}"
   ]
  },
  {
   "cell_type": "code",
   "execution_count": 12,
   "metadata": {},
   "outputs": [],
   "source": [
    "def update_score(dataset_train, mcps):\n",
    "    global best_score, best_mcps, best_train_data, all_scores\n",
    "    score = predict_accuracy(dataset_train)\n",
    "    all_scores[score] = mcps\n",
    "    if score > best_score:\n",
    "        best_score = score\n",
    "        best_mcps = mcps\n",
    "        best_train_data = dataset_train.copy()"
   ]
  },
  {
   "cell_type": "code",
   "execution_count": 13,
   "metadata": {},
   "outputs": [],
   "source": [
    "def getXy(dataset):\n",
    "    X_data = dataset.drop([target_column], axis=1)\n",
    "    y_data = dataset[target_column]\n",
    "    return X_data, y_data"
   ]
  },
  {
   "cell_type": "code",
   "execution_count": 14,
   "metadata": {},
   "outputs": [],
   "source": [
    "def getNumericAndNominal(dataset):\n",
    "    nominal_att = dataset.loc[:, dataset.columns.isin(nominal_columnnames)]\n",
    "    numeric_att = dataset.drop(nominal_columnnames, axis=1, errors='ignore')\n",
    "    return nominal_att, numeric_att"
   ]
  },
  {
   "cell_type": "markdown",
   "metadata": {},
   "source": [
    "Choosing the methods for datapreprocessing automatically with Meta-learning"
   ]
  },
  {
   "cell_type": "code",
   "execution_count": 15,
   "metadata": {},
   "outputs": [],
   "source": [
    "# handling missing values\n",
    "# drop rows with missing values\n",
    "def drop_rows(data_train):\n",
    "    return data_train.dropna()\n",
    "\n",
    "# replace missing values with zero\n",
    "def replace_with_zero(data_train):\n",
    "    return data_train.fillna(0)\n",
    "\n",
    "# replace missing values with mean\n",
    "def replace_with_mean(data_train):\n",
    "    return data_train.fillna(data_train.mean())\n",
    "\n",
    "# replace missing values with median\n",
    "def replace_with_median(data_train):\n",
    "    return data_train.fillna(data_train.median())\n",
    "\n",
    "# replace missing values with min\n",
    "def replace_with_min(data_train):\n",
    "    return data_train.fillna(data_train.min())\n",
    "\n",
    "# replace missing values with max\n",
    "def replace_with_max(data_train):\n",
    "    return data_train.fillna(data_train.max())"
   ]
  },
  {
   "cell_type": "code",
   "execution_count": 16,
   "metadata": {},
   "outputs": [],
   "source": [
    "# Outliers\n",
    "# no outlier handling\n",
    "def no_outlier_handling(data_train):\n",
    "    return data_train\n",
    "\n",
    "# remove outliers with Interquartile Range\n",
    "def interquartile_range(data_train):\n",
    "    q25_train = np.percentile(data_train[target_column], 25)\n",
    "    q75_train = np.percentile(data_train[target_column], 75)\n",
    "    iqr_train = data_train.drop(data_train[(data_train[target_column] < q25_train) | \n",
    "                                           (data_train[target_column] > q75_train)].index, axis=0)\n",
    "    return iqr_train\n",
    "\n",
    "# remove outliers with BaggedLOF\n",
    "def bagged_lof(data_train):\n",
    "    lof = LocalOutlierFactor(n_neighbors=lof_n_neighbors, contamination=0.1)\n",
    "    outlier_train_pred = lof.fit_predict(data_train)\n",
    "    lof_train = data_train.drop(data_train[outlier_train_pred == -1].index, axis=0)\n",
    "    return lof_train"
   ]
  },
  {
   "cell_type": "code",
   "execution_count": 17,
   "metadata": {},
   "outputs": [],
   "source": [
    "# Transformation\n",
    "# no transformation\n",
    "def no_transformation(data_train):\n",
    "    return data_train\n",
    "\n",
    "# normalization\n",
    "def normalization(data_train):\n",
    "    normalizer = preprocessing.Normalizer(norm='l2')\n",
    "    X_train = data_train.drop([target_column], axis=1)\n",
    "    y_train = data_train[target_column]\n",
    "    normalized_X_train = pd.DataFrame(normalizer.fit_transform(X_train), columns=X_train.columns, index=X_train.index)\n",
    "    normalized_train = pd.concat([normalized_X_train, y_train], axis=1)\n",
    "    return normalized_train\n",
    "\n",
    "# standardize\n",
    "def standardization(data_train):\n",
    "    standardizer = preprocessing.StandardScaler()\n",
    "    X_train = data_train.drop([target_column], axis=1)\n",
    "    y_train = data_train[target_column]\n",
    "    standardized_X_train = pd.DataFrame(standardizer.fit_transform(X_train), columns=X_train.columns, index=X_train.index)\n",
    "    standardized_train = pd.concat([standardized_X_train, y_train], axis=1)\n",
    "    return standardized_train"
   ]
  },
  {
   "cell_type": "code",
   "execution_count": 18,
   "metadata": {},
   "outputs": [],
   "source": [
    "# Dimensionality Reduction\n",
    "# no Dimensionality Reduction\n",
    "def no_reduction(data_train):\n",
    "    return data_train\n",
    "\n",
    "# PCA\n",
    "def pca(data_train):\n",
    "    pca = PCA(n_components=pca_n_components)\n",
    "    X_train = data_train.drop([target_column], axis=1)\n",
    "    y_train = data_train[target_column]\n",
    "    pca_X_train = pd.DataFrame(data=pca.fit_transform(X_train), index=X_train.index)\n",
    "    pca_train = pd.concat([pca_X_train, y_train], axis=1)\n",
    "    return pca_train\n",
    "    \n",
    "# RandomSubset\n",
    "def random_subset(data_train):\n",
    "    X_train = data_train.drop([target_column], axis=1)\n",
    "    y_train = data_train[target_column]\n",
    "    random_X_train = X_train.sample(n_random_subset, axis=1)\n",
    "    random_train = pd.concat([random_X_train, y_train], axis=1)\n",
    "    return random_train\n",
    "\n",
    "# Backward Elimination\n",
    "def backward_elimination(data_train):\n",
    "    X_train = data_train.drop([target_column], axis=1)\n",
    "    y_train = data_train[target_column]\n",
    "    numVars = X_train.shape[1]\n",
    "    for i in range(0, numVars):\n",
    "        regressor_OLS = sm.OLS(endog = y_train, exog = X_train).fit()\n",
    "        maxVar = max(regressor_OLS.pvalues)\n",
    "        if maxVar > sl_backward_elimination:\n",
    "            for j in range(0, numVars - i):\n",
    "                if (regressor_OLS.pvalues[j] == maxVar):\n",
    "                    X_train.drop([X_train.columns[j]], axis=1, inplace=True)\n",
    "    be_train = pd.concat([X_train, y_train], axis=1)\n",
    "    return be_train"
   ]
  },
  {
   "cell_type": "code",
   "execution_count": 19,
   "metadata": {},
   "outputs": [
    {
     "name": "stdout",
     "output_type": "stream",
     "text": [
      "drop_rows\n"
     ]
    }
   ],
   "source": [
    "# Grid-search for finding the best mcps\n",
    "handling_missing_values = [drop_rows] #, replace_with_zero, replace_with_mean, replace_with_median, replace_with_min, replace_with_max\n",
    "handling_outliers = [no_outlier_handling, interquartile_range, bagged_lof] #\n",
    "transformations = [no_transformation, normalization, standardization] #\n",
    "dimensionality_reduction = [no_reduction, pca, random_subset, backward_elimination] #\n",
    "for missing_values_method in handling_missing_values:\n",
    "    filled_train_data = missing_values_method(data_train)\n",
    "    print(missing_values_method.__name__)\n",
    "    for outlier_method in handling_outliers:\n",
    "        outliers_handled_train_data = outlier_method(filled_train_data)\n",
    "        for transformation_method in transformations:\n",
    "            transformed_train_data = transformation_method(outliers_handled_train_data)\n",
    "            for dim_reduction_method in dimensionality_reduction:\n",
    "                if dim_reduction_method.__name__ == 'pca' and transformation_method.__name__ == 'no_transformation':\n",
    "                    continue\n",
    "                reduced_train_data = dim_reduction_method(transformed_train_data)\n",
    "                if reduced_train_data.shape[1] > 1:\n",
    "                    mcps = [missing_values_method.__name__, outlier_method.__name__, transformation_method.__name__,\n",
    "                            dim_reduction_method.__name__]\n",
    "                    update_score(reduced_train_data, mcps)"
   ]
  },
  {
   "cell_type": "code",
   "execution_count": 20,
   "metadata": {},
   "outputs": [
    {
     "data": {
      "text/plain": [
       "['drop_rows', 'no_outlier_handling', 'standardization', 'backward_elimination']"
      ]
     },
     "execution_count": 20,
     "metadata": {},
     "output_type": "execute_result"
    }
   ],
   "source": [
    "best_mcps"
   ]
  },
  {
   "cell_type": "code",
   "execution_count": 21,
   "metadata": {},
   "outputs": [
    {
     "data": {
      "text/plain": [
       "0.6295494885001244"
      ]
     },
     "execution_count": 21,
     "metadata": {},
     "output_type": "execute_result"
    }
   ],
   "source": [
    "training_score = best_score\n",
    "training_score"
   ]
  },
  {
   "cell_type": "code",
   "execution_count": 22,
   "metadata": {},
   "outputs": [],
   "source": [
    "# all_scores"
   ]
  },
  {
   "cell_type": "markdown",
   "metadata": {},
   "source": [
    "testing the preprocessed dataset"
   ]
  },
  {
   "cell_type": "code",
   "execution_count": 25,
   "metadata": {},
   "outputs": [],
   "source": [
    "def adj_r2(y_true, y_pred):\n",
    "    R2 = metrics.r2_score(y_true, y_pred)\n",
    "    n = len(y_true)\n",
    "    p = best_train_data.shape[1] - 1\n",
    "    return 1-(1-R2)*(n-1)/(n-p-1)"
   ]
  },
  {
   "cell_type": "code",
   "execution_count": 26,
   "metadata": {},
   "outputs": [],
   "source": [
    "def make_prediction(dataset_train, dataset_test):\n",
    "    X_train, y_train = getXy(dataset_train)\n",
    "    X_test, y_test = getXy(dataset_test)\n",
    "    #regressor = LinearRegression()\n",
    "    #regressor = RandomForestRegressor(n_estimators=n_estimators, random_state=0)\n",
    "    regressor = DecisionTreeRegressor(random_state=0)\n",
    "    regressor.fit(X_train, y_train)\n",
    "    pred_test = regressor.predict(X_test)\n",
    "    return adj_r2(y_test, pred_test), y_test, pred_test"
   ]
  },
  {
   "cell_type": "code",
   "execution_count": 27,
   "metadata": {},
   "outputs": [],
   "source": [
    "# preprocess the testset in the same way like the trainingset\n",
    "data_test = locals()[best_mcps[0]](data_test)\n",
    "data_test = locals()[best_mcps[1]](data_test)\n",
    "data_test = locals()[best_mcps[2]](data_test)\n",
    "if (best_mcps[3] == 'backward_elimination'):\n",
    "    data_test = data_test[best_train_data.columns]\n",
    "else:\n",
    "    data_test = locals()[best_mcps[3]](data_test)"
   ]
  },
  {
   "cell_type": "code",
   "execution_count": 28,
   "metadata": {},
   "outputs": [
    {
     "data": {
      "text/plain": [
       "0.60895988563381453"
      ]
     },
     "execution_count": 28,
     "metadata": {},
     "output_type": "execute_result"
    }
   ],
   "source": [
    "test_score, real_test, pred_test = make_prediction(best_train_data, data_test)\n",
    "test_score"
   ]
  },
  {
   "cell_type": "code",
   "execution_count": 29,
   "metadata": {},
   "outputs": [
    {
     "data": {
      "text/plain": [
       "Text(0,0.5,'Predicted Price')"
      ]
     },
     "execution_count": 29,
     "metadata": {},
     "output_type": "execute_result"
    },
    {
     "data": {
      "image/png": "[encoded data removed]",
      "text/plain": [
       "<matplotlib.figure.Figure at 0x2122b11df28>"
      ]
     },
     "metadata": {},
     "output_type": "display_data"
    }
   ],
   "source": [
    "plt.scatter(real_test, pred_test)\n",
    "plt.xlabel('Price Test')\n",
    "plt.ylabel('Predicted Price')"
   ]
  },
  {
   "cell_type": "markdown",
   "metadata": {},
   "source": [
    "Saving the data"
   ]
  },
  {
   "cell_type": "code",
   "execution_count": 30,
   "metadata": {},
   "outputs": [],
   "source": [
    "pd.DataFrame(pred_test).to_csv('meta_pred.csv', sep=',', encoding='utf-8', index=None)\n",
    "pd.DataFrame(real_test).to_csv('meta_test.csv', sep=',', encoding='utf-8', index=None)"
   ]
  },
  {
   "cell_type": "code",
   "execution_count": null,
   "metadata": {},
   "outputs": [],
   "source": []
  }
 ],
 "metadata": {
  "kernelspec": {
   "display_name": "Python 3",
   "language": "python",
   "name": "python3"
  },
  "language_info": {
   "codemirror_mode": {
    "name": "ipython",
    "version": 3
   },
   "file_extension": ".py",
   "mimetype": "text/x-python",
   "name": "python",
   "nbconvert_exporter": "python",
   "pygments_lexer": "ipython3",
   "version": "3.6.4"
  }
 },
 "nbformat": 4,
 "nbformat_minor": 2
}
