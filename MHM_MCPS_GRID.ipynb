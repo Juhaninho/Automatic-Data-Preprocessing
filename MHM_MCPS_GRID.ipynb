{
 "cells": [
  {
   "cell_type": "code",
   "execution_count": 1,
   "metadata": {},
   "outputs": [],
   "source": [
    "import numpy as np\n",
    "import pandas as pd\n",
    "from sklearn.model_selection import train_test_split\n",
    "from sklearn.linear_model import LinearRegression\n",
    "from sklearn.ensemble import RandomForestRegressor\n",
    "from sklearn.tree import DecisionTreeRegressor\n",
    "from sklearn.model_selection import cross_validate\n",
    "from sklearn.preprocessing import LabelEncoder\n",
    "from sklearn import metrics\n",
    "from sklearn import preprocessing\n",
    "from sklearn.neighbors import LocalOutlierFactor\n",
    "from sklearn.decomposition import PCA\n",
    "import statsmodels.formula.api as sm\n",
    "from matplotlib import pyplot as plt\n",
    "%matplotlib inline"
   ]
  },
  {
   "cell_type": "markdown",
   "metadata": {},
   "source": [
    "Loading the data and setting hyperparameters"
   ]
  },
  {
   "cell_type": "code",
   "execution_count": 2,
   "metadata": {},
   "outputs": [],
   "source": [
    "data = pd.read_csv('Melbourne_housing_FULL.csv')"
   ]
  },
  {
   "cell_type": "code",
   "execution_count": 3,
   "metadata": {},
   "outputs": [],
   "source": [
    "target_column = 'Price'"
   ]
  },
  {
   "cell_type": "code",
   "execution_count": 4,
   "metadata": {},
   "outputs": [],
   "source": [
    "# hyperparameters\n",
    "n_estimators = 2\n",
    "lof_n_neighbors = 20\n",
    "pca_n_components = 3\n",
    "n_random_subset = 5\n",
    "sl_backward_elimination = 0.05"
   ]
  },
  {
   "cell_type": "code",
   "execution_count": 5,
   "metadata": {},
   "outputs": [],
   "source": [
    "X = data.drop([target_column], axis=1)\n",
    "y = data[target_column]\n",
    "\n",
    "# transform categorical variables to numerical variables\n",
    "le = LabelEncoder()\n",
    "X['Suburb'] = le.fit_transform(X['Suburb'])\n",
    "X['Address'] = le.fit_transform(X['Address'])\n",
    "X['Regionname'] = le.fit_transform([str(rn) for rn in X['Regionname']])\n",
    "X['CouncilArea'] = le.fit_transform([str(ca) for ca in X['CouncilArea']])\n",
    "X['SellerG'] = le.fit_transform(X['SellerG'])\n",
    "X['Type'] = le.fit_transform(X['Type'])\n",
    "X['Method'] = le.fit_transform(X['Method'])\n",
    "X['Date'] = [int(d.split('/')[2]) for d in X['Date']]"
   ]
  },
  {
   "cell_type": "markdown",
   "metadata": {},
   "source": [
    "Choosing the methods for datapreprocessing automatically by a grid-search with MCPS"
   ]
  },
  {
   "cell_type": "code",
   "execution_count": 6,
   "metadata": {},
   "outputs": [],
   "source": [
    "# train-test-split\n",
    "X_train, X_test, y_train, y_test = train_test_split(X, y, test_size=0.3, random_state=8)\n",
    "data_train = pd.concat([X_train, y_train], axis=1)\n",
    "data_test = pd.concat([X_test, y_test], axis=1)"
   ]
  },
  {
   "cell_type": "code",
   "execution_count": 7,
   "metadata": {},
   "outputs": [],
   "source": [
    "def adj_r2(y_true, y_pred):\n",
    "    R2 = metrics.r2_score(y_true, y_pred)\n",
    "    n = len(y_true)\n",
    "    p = best_train_data.shape[1] - 1\n",
    "    return 1-(1-R2)*(n-1)/(n-p-1)"
   ]
  },
  {
   "cell_type": "code",
   "execution_count": 8,
   "metadata": {},
   "outputs": [],
   "source": [
    "# predict the accuracy of the preprocessed training dataset with a 10-fold cross-validation\n",
    "def predict_accuracy(dataset_train):\n",
    "    X, y = getXy(dataset_train)\n",
    "    regressor = DecisionTreeRegressor(random_state=0)\n",
    "    cv_results = cross_validate(regressor, X, y, cv=10, scoring=metrics.make_scorer(adj_r2))\n",
    "    return cv_results['test_score'].mean()"
   ]
  },
  {
   "cell_type": "code",
   "execution_count": 9,
   "metadata": {},
   "outputs": [],
   "source": [
    "#variables\n",
    "best_score = 0\n",
    "best_mcps = []\n",
    "best_train_data = data_train.copy()\n",
    "mcps = []\n",
    "all_scores = {}"
   ]
  },
  {
   "cell_type": "code",
   "execution_count": 10,
   "metadata": {},
   "outputs": [],
   "source": [
    "def update_score(dataset_train, mcps):\n",
    "    global best_score, best_mcps, best_train_data, all_scores\n",
    "    score = predict_accuracy(dataset_train)\n",
    "    all_scores[score] = mcps\n",
    "    if score > best_score:\n",
    "        best_score = score\n",
    "        best_mcps = mcps\n",
    "        best_train_data = dataset_train.copy()"
   ]
  },
  {
   "cell_type": "code",
   "execution_count": 11,
   "metadata": {},
   "outputs": [],
   "source": [
    "def getXy(dataset):\n",
    "    X_data = dataset.drop([target_column], axis=1)\n",
    "    y_data = dataset[target_column]\n",
    "    return X_data, y_data"
   ]
  },
  {
   "cell_type": "code",
   "execution_count": 12,
   "metadata": {},
   "outputs": [],
   "source": [
    "# handling missing values\n",
    "# drop rows with missing values\n",
    "def drop_rows(data_train):\n",
    "    return data_train.dropna()\n",
    "\n",
    "# replace missing values with zero\n",
    "def replace_with_zero(data_train):\n",
    "    return data_train.fillna(0)\n",
    "\n",
    "# replace missing values with mean\n",
    "def replace_with_mean(data_train):\n",
    "    return data_train.fillna(data_train.mean())\n",
    "\n",
    "# replace missing values with median\n",
    "def replace_with_median(data_train):\n",
    "    return data_train.fillna(data_train.median())\n",
    "\n",
    "# replace missing values with min\n",
    "def replace_with_min(data_train):\n",
    "    return data_train.fillna(data_train.min())\n",
    "\n",
    "# replace missing values with max\n",
    "def replace_with_max(data_train):\n",
    "    return data_train.fillna(data_train.max())"
   ]
  },
  {
   "cell_type": "code",
   "execution_count": 13,
   "metadata": {},
   "outputs": [],
   "source": [
    "# Outliers\n",
    "# no outlier handling\n",
    "def no_outlier_handling(data_train):\n",
    "    return data_train\n",
    "\n",
    "# remove outliers with Interquartile Range\n",
    "def interquartile_range(data_train):\n",
    "    q25_train = np.percentile(data_train[target_column], 25)\n",
    "    q75_train = np.percentile(data_train[target_column], 75)\n",
    "    iqr_train = data_train.drop(data_train[(data_train[target_column] < q25_train) | \n",
    "                                           (data_train[target_column] > q75_train)].index, axis=0)\n",
    "    return iqr_train\n",
    "\n",
    "# remove outliers with BaggedLOF\n",
    "def bagged_lof(data_train):\n",
    "    lof = LocalOutlierFactor(n_neighbors=lof_n_neighbors, contamination=0.1)\n",
    "    outlier_train_pred = lof.fit_predict(data_train)\n",
    "    lof_train = data_train.drop(data_train[outlier_train_pred == -1].index, axis=0)\n",
    "    return lof_train"
   ]
  },
  {
   "cell_type": "code",
   "execution_count": 14,
   "metadata": {},
   "outputs": [],
   "source": [
    "# Transformation\n",
    "# no transformation\n",
    "def no_transformation(data_train):\n",
    "    return data_train\n",
    "\n",
    "# normalization\n",
    "def normalization(data_train):\n",
    "    normalizer = preprocessing.Normalizer(norm='l2')\n",
    "    X_train = data_train.drop([target_column], axis=1)\n",
    "    y_train = data_train[target_column]\n",
    "    normalized_X_train = pd.DataFrame(normalizer.fit_transform(X_train), columns=X_train.columns, index=X_train.index)\n",
    "    normalized_train = pd.concat([normalized_X_train, y_train], axis=1)\n",
    "    return normalized_train\n",
    "\n",
    "# standardize\n",
    "def standardization(data_train):\n",
    "    standardizer = preprocessing.StandardScaler()\n",
    "    X_train = data_train.drop([target_column], axis=1)\n",
    "    y_train = data_train[target_column]\n",
    "    standardized_X_train = pd.DataFrame(standardizer.fit_transform(X_train), columns=X_train.columns, index=X_train.index)\n",
    "    standardized_train = pd.concat([standardized_X_train, y_train], axis=1)\n",
    "    return standardized_train"
   ]
  },
  {
   "cell_type": "code",
   "execution_count": 15,
   "metadata": {},
   "outputs": [],
   "source": [
    "# Dimensionality Reduction\n",
    "# no Dimensionality Reduction\n",
    "def no_reduction(data_train):\n",
    "    return data_train\n",
    "\n",
    "# PCA\n",
    "def pca(data_train):\n",
    "    pca = PCA(n_components=pca_n_components)\n",
    "    X_train = data_train.drop([target_column], axis=1)\n",
    "    y_train = data_train[target_column]\n",
    "    pca_X_train = pd.DataFrame(data=pca.fit_transform(X_train), index=X_train.index)\n",
    "    pca_train = pd.concat([pca_X_train, y_train], axis=1)\n",
    "    return pca_train\n",
    "    \n",
    "# RandomSubset\n",
    "def random_subset(data_train):\n",
    "    X_train = data_train.drop([target_column], axis=1)\n",
    "    y_train = data_train[target_column]\n",
    "    random_X_train = X_train.sample(n_random_subset, axis=1)\n",
    "    random_train = pd.concat([random_X_train, y_train], axis=1)\n",
    "    return random_train\n",
    "\n",
    "# Backward Elimination\n",
    "def backward_elimination(data_train):\n",
    "    X_train = data_train.drop([target_column], axis=1)\n",
    "    y_train = data_train[target_column]\n",
    "    numVars = X_train.shape[1]\n",
    "    for i in range(0, numVars):\n",
    "        regressor_OLS = sm.OLS(endog = y_train, exog = X_train).fit()\n",
    "        maxVar = max(regressor_OLS.pvalues)\n",
    "        if maxVar > sl_backward_elimination:\n",
    "            for j in range(0, numVars - i):\n",
    "                if (regressor_OLS.pvalues[j] == maxVar):\n",
    "                    X_train.drop([X_train.columns[j]], axis=1, inplace=True)\n",
    "    be_train = pd.concat([X_train, y_train], axis=1)\n",
    "    return be_train"
   ]
  },
  {
   "cell_type": "code",
   "execution_count": 16,
   "metadata": {},
   "outputs": [
    {
     "name": "stdout",
     "output_type": "stream",
     "text": [
      "drop_rows\n"
     ]
    }
   ],
   "source": [
    "# Grid-search for finding the best mcps\n",
    "handling_missing_values = [drop_rows, replace_with_zero, replace_with_mean, replace_with_median, replace_with_min, replace_with_max]\n",
    "handling_outliers = [no_outlier_handling, interquartile_range, bagged_lof]\n",
    "transformations = [no_transformation, normalization, standardization]\n",
    "dimensionality_reduction = [no_reduction, pca, random_subset, backward_elimination]\n",
    "for missing_values_method in handling_missing_values:\n",
    "    filled_train_data = missing_values_method(data_train)\n",
    "    print(missing_values_method.__name__)\n",
    "    for outlier_method in handling_outliers:\n",
    "        outliers_handled_train_data = outlier_method(filled_train_data)\n",
    "        for transformation_method in transformations:\n",
    "            transformed_train_data = transformation_method(outliers_handled_train_data)\n",
    "            for dim_reduction_method in dimensionality_reduction:\n",
    "                if dim_reduction_method.__name__ == 'pca' and transformation_method.__name__ == 'no_transformation':\n",
    "                    continue\n",
    "                reduced_train_data = dim_reduction_method(transformed_train_data)\n",
    "                if reduced_train_data.shape[1] > 1:\n",
    "                    mcps = [missing_values_method.__name__, outlier_method.__name__, transformation_method.__name__,\n",
    "                            dim_reduction_method.__name__]\n",
    "                    update_score(reduced_train_data, mcps)"
   ]
  },
  {
   "cell_type": "code",
   "execution_count": 17,
   "metadata": {},
   "outputs": [
    {
     "data": {
      "text/plain": [
       "['drop_rows', 'bagged_lof', 'no_transformation', 'backward_elimination']"
      ]
     },
     "execution_count": 17,
     "metadata": {},
     "output_type": "execute_result"
    }
   ],
   "source": [
    "best_mcps"
   ]
  },
  {
   "cell_type": "code",
   "execution_count": 18,
   "metadata": {},
   "outputs": [
    {
     "data": {
      "text/plain": [
       "0.65132111921269042"
      ]
     },
     "execution_count": 18,
     "metadata": {},
     "output_type": "execute_result"
    }
   ],
   "source": [
    "training_score = best_score\n",
    "training_score"
   ]
  },
  {
   "cell_type": "code",
   "execution_count": 19,
   "metadata": {},
   "outputs": [],
   "source": [
    "# all_scores"
   ]
  },
  {
   "cell_type": "markdown",
   "metadata": {},
   "source": [
    "Making predictions on the preprocessed dataset"
   ]
  },
  {
   "cell_type": "code",
   "execution_count": 21,
   "metadata": {},
   "outputs": [],
   "source": [
    "def make_prediction(dataset_train, dataset_test):\n",
    "    X_train, y_train = getXy(dataset_train)\n",
    "    X_test, y_test = getXy(dataset_test)\n",
    "    regressor = DecisionTreeRegressor(random_state=0)\n",
    "    regressor.fit(X_train, y_train)\n",
    "    pred_test = regressor.predict(X_test)\n",
    "    return adj_r2(y_test, pred_test), y_test, pred_test"
   ]
  },
  {
   "cell_type": "code",
   "execution_count": 22,
   "metadata": {},
   "outputs": [],
   "source": [
    "# preprocess the testset in the same way like the trainingset\n",
    "data_test = locals()[best_mcps[0]](data_test)\n",
    "data_test = locals()[best_mcps[1]](data_test)\n",
    "data_test = locals()[best_mcps[2]](data_test)\n",
    "if (best_mcps[3] == 'backward_elimination'):\n",
    "    data_test = data_test[best_train_data.columns]\n",
    "else:\n",
    "    data_test = locals()[best_mcps[3]](data_test)"
   ]
  },
  {
   "cell_type": "code",
   "execution_count": 23,
   "metadata": {},
   "outputs": [
    {
     "data": {
      "text/plain": [
       "0.64387174445954742"
      ]
     },
     "execution_count": 23,
     "metadata": {},
     "output_type": "execute_result"
    }
   ],
   "source": [
    "test_score, real_test, pred_test = make_prediction(best_train_data, data_test)\n",
    "test_score"
   ]
  },
  {
   "cell_type": "code",
   "execution_count": 24,
   "metadata": {},
   "outputs": [
    {
     "data": {
      "text/plain": [
       "Text(0,0.5,'Predicted Price')"
      ]
     },
     "execution_count": 24,
     "metadata": {},
     "output_type": "execute_result"
    },
    {
     "data": {
      "image/png": "[encoded data removed]",
      "text/plain": [
       "<matplotlib.figure.Figure at 0x1d6e23af5f8>"
      ]
     },
     "metadata": {},
     "output_type": "display_data"
    }
   ],
   "source": [
    "plt.scatter(real_test, pred_test)\n",
    "plt.xlabel('Price Test')\n",
    "plt.ylabel('Predicted Price')"
   ]
  },
  {
   "cell_type": "markdown",
   "metadata": {},
   "source": [
    "Saving the data"
   ]
  },
  {
   "cell_type": "code",
   "execution_count": 25,
   "metadata": {},
   "outputs": [],
   "source": [
    "pd.DataFrame(pred_test).to_csv('mcps_pred.csv', sep=',', encoding='utf-8', index=None)\n",
    "pd.DataFrame(real_test).to_csv('mcps_test.csv', sep=',', encoding='utf-8', index=None)"
   ]
  },
  {
   "cell_type": "code",
   "execution_count": null,
   "metadata": {},
   "outputs": [],
   "source": []
  }
 ],
 "metadata": {
  "kernelspec": {
   "display_name": "Python 3",
   "language": "python",
   "name": "python3"
  },
  "language_info": {
   "codemirror_mode": {
    "name": "ipython",
    "version": 3
   },
   "file_extension": ".py",
   "mimetype": "text/x-python",
   "name": "python",
   "nbconvert_exporter": "python",
   "pygments_lexer": "ipython3",
   "version": "3.6.4"
  }
 },
 "nbformat": 4,
 "nbformat_minor": 2
}
